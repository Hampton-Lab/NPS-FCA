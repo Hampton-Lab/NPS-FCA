{
 "cells": [
  {
   "cell_type": "code",
   "execution_count": 1,
   "metadata": {},
   "outputs": [],
   "source": [
    "import numpy as np\n",
    "import pandas as pd\n",
    "import matplotlib.pyplot as plt\n",
    "import seaborn as sns\n",
    "from sklearn.tree import DecisionTreeRegressor\n",
    "from sklearn.tree import plot_tree\n",
    "from sklearn.tree import export_graphviz\n",
    "import graphviz\n",
    "from sklearn import model_selection\n",
    "from sklearn.metrics import accuracy_score\n",
    "from sklearn.metrics import confusion_matrix\n",
    "from sklearn.metrics import classification_report\n",
    "from sklearn.model_selection import cross_val_score\n",
    "from sklearn.model_selection import RepeatedKFold"
   ]
  },
  {
   "cell_type": "code",
   "execution_count": 2,
   "metadata": {},
   "outputs": [],
   "source": [
    "# Import example NPS data\n",
    "taxa_data = pd.read_csv(filepath_or_buffer = \"../data/analysis_outputs/zoop_tree_data_taxa_w_env.csv\")"
   ]
  },
  {
   "cell_type": "code",
   "execution_count": 3,
   "metadata": {},
   "outputs": [
    {
     "name": "stdout",
     "output_type": "stream",
     "text": [
      "<class 'pandas.core.frame.DataFrame'>\n",
      "RangeIndex: 283 entries, 0 to 282\n",
      "Data columns (total 104 columns):\n",
      "park_code                    object\n",
      "site_code                    object\n",
      "event_year                   int64\n",
      "anc                          float64\n",
      "ca                           float64\n",
      "chlorophyll                  float64\n",
      "cl                           float64\n",
      "doc                          float64\n",
      "k                            float64\n",
      "mg                           float64\n",
      "na                           float64\n",
      "nh3_n                        float64\n",
      "nh4_n                        float64\n",
      "no3_n                        float64\n",
      "no3_n_no2_n                  float64\n",
      "po4                          float64\n",
      "so4                          float64\n",
      "tds                          float64\n",
      "total_n                      float64\n",
      "total_p                      float64\n",
      "pheophytin                   float64\n",
      "air_temp                     float64\n",
      "bot_temp                     float64\n",
      "mid_temp                     float64\n",
      "surf_temp                    float64\n",
      "air_temp_1                   float64\n",
      "bot_temp_1                   float64\n",
      "mid_temp_1                   float64\n",
      "surf_temp_1                  float64\n",
      "air_temp_2                   float64\n",
      "bot_temp_2                   float64\n",
      "mid_temp_2                   float64\n",
      "surf_temp_2                  float64\n",
      "air_temp_3                   float64\n",
      "bot_temp_3                   float64\n",
      "mid_temp_3                   float64\n",
      "surf_temp_3                  float64\n",
      "air_temp_4                   float64\n",
      "bot_temp_4                   float64\n",
      "mid_temp_4                   float64\n",
      "surf_temp_4                  float64\n",
      "air_temp_5                   float64\n",
      "bot_temp_5                   float64\n",
      "mid_temp_5                   float64\n",
      "surf_temp_5                  float64\n",
      "air_temp_6                   float64\n",
      "bot_temp_6                   float64\n",
      "mid_temp_6                   float64\n",
      "surf_temp_6                  float64\n",
      "air_temp_7                   float64\n",
      "bot_temp_7                   float64\n",
      "mid_temp_7                   float64\n",
      "surf_temp_7                  float64\n",
      "air_temp_8                   float64\n",
      "bot_temp_8                   float64\n",
      "mid_temp_8                   float64\n",
      "surf_temp_8                  float64\n",
      "depth_below2m                float64\n",
      "do_below2m                   float64\n",
      "d_osat_below2m               float64\n",
      "d_osol_below2m               float64\n",
      "p_h_below2m                  float64\n",
      "prof_temp_below2m            float64\n",
      "sp_cond_below2m              float64\n",
      "depth_top2m                  float64\n",
      "do_top2m                     float64\n",
      "d_osat_top2m                 float64\n",
      "d_osol_top2m                 float64\n",
      "p_h_top2m                    float64\n",
      "prof_temp_top2m              float64\n",
      "sp_cond_top2m                float64\n",
      "p_hm_v_below2m               float64\n",
      "p_hm_v_top2m                 float64\n",
      "do_sat_incomplete_below2m    float64\n",
      "do_sat_incomplete_top2m      float64\n",
      "salinity_below2m             float64\n",
      "salinity_top2m               float64\n",
      "lakelevelcm                  float64\n",
      "secchi_value_m               float64\n",
      "clad                         float64\n",
      "cope                         float64\n",
      "rot                          float64\n",
      "brk_ever                     float64\n",
      "cct_ever                     float64\n",
      "rbt_ever                     float64\n",
      "tss_ever                     float64\n",
      "wct_ever                     float64\n",
      "brk                          float64\n",
      "cct                          float64\n",
      "rbt                          float64\n",
      "tss                          float64\n",
      "wct                          float64\n",
      "swe_may                      float64\n",
      "swe_apr                      float64\n",
      "swe_april_snotel             float64\n",
      "swe_may_snotel               float64\n",
      "ice_out_doy                  float64\n",
      "ice_in_doy                   float64\n",
      "flush_index_no_swe           float64\n",
      "flush_index_swe_may          float64\n",
      "wrt_index_swe_may            float64\n",
      "ln_clad                      float64\n",
      "ln_cope                      float64\n",
      "ln_rot                       float64\n",
      "dtypes: float64(101), int64(1), object(2)\n",
      "memory usage: 230.1+ KB\n"
     ]
    }
   ],
   "source": [
    "# Structure and types\n",
    "taxa_data.info(verbose = True)"
   ]
  },
  {
   "cell_type": "code",
   "execution_count": 4,
   "metadata": {},
   "outputs": [
    {
     "data": {
      "text/html": [
       "<div>\n",
       "<style scoped>\n",
       "    .dataframe tbody tr th:only-of-type {\n",
       "        vertical-align: middle;\n",
       "    }\n",
       "\n",
       "    .dataframe tbody tr th {\n",
       "        vertical-align: top;\n",
       "    }\n",
       "\n",
       "    .dataframe thead th {\n",
       "        text-align: right;\n",
       "    }\n",
       "</style>\n",
       "<table border=\"1\" class=\"dataframe\">\n",
       "  <thead>\n",
       "    <tr style=\"text-align: right;\">\n",
       "      <th></th>\n",
       "      <th>park_code</th>\n",
       "      <th>site_code</th>\n",
       "      <th>event_year</th>\n",
       "      <th>anc</th>\n",
       "      <th>ca</th>\n",
       "      <th>chlorophyll</th>\n",
       "      <th>cl</th>\n",
       "      <th>doc</th>\n",
       "      <th>k</th>\n",
       "      <th>mg</th>\n",
       "      <th>...</th>\n",
       "      <th>swe_april_snotel</th>\n",
       "      <th>swe_may_snotel</th>\n",
       "      <th>ice_out_doy</th>\n",
       "      <th>ice_in_doy</th>\n",
       "      <th>flush_index_no_swe</th>\n",
       "      <th>flush_index_swe_may</th>\n",
       "      <th>wrt_index_swe_may</th>\n",
       "      <th>ln_clad</th>\n",
       "      <th>ln_cope</th>\n",
       "      <th>ln_rot</th>\n",
       "    </tr>\n",
       "  </thead>\n",
       "  <tbody>\n",
       "    <tr>\n",
       "      <td>0</td>\n",
       "      <td>MORA</td>\n",
       "      <td>LH14</td>\n",
       "      <td>2008</td>\n",
       "      <td>70.0</td>\n",
       "      <td>1.375677</td>\n",
       "      <td>0.128</td>\n",
       "      <td>0.349035</td>\n",
       "      <td>0.42</td>\n",
       "      <td>0.126874</td>\n",
       "      <td>0.134771</td>\n",
       "      <td>...</td>\n",
       "      <td>183.642</td>\n",
       "      <td>197.104</td>\n",
       "      <td>NaN</td>\n",
       "      <td>NaN</td>\n",
       "      <td>8.14429</td>\n",
       "      <td>16.052722</td>\n",
       "      <td>0.062295</td>\n",
       "      <td>NaN</td>\n",
       "      <td>NaN</td>\n",
       "      <td>NaN</td>\n",
       "    </tr>\n",
       "    <tr>\n",
       "      <td>1</td>\n",
       "      <td>MORA</td>\n",
       "      <td>LH14</td>\n",
       "      <td>2009</td>\n",
       "      <td>92.5</td>\n",
       "      <td>1.577069</td>\n",
       "      <td>0.257</td>\n",
       "      <td>0.260580</td>\n",
       "      <td>3.59</td>\n",
       "      <td>0.166168</td>\n",
       "      <td>0.192799</td>\n",
       "      <td>...</td>\n",
       "      <td>109.982</td>\n",
       "      <td>114.808</td>\n",
       "      <td>186.0</td>\n",
       "      <td>NaN</td>\n",
       "      <td>8.14429</td>\n",
       "      <td>9.350297</td>\n",
       "      <td>0.106948</td>\n",
       "      <td>9.039751</td>\n",
       "      <td>8.078856</td>\n",
       "      <td>10.896468</td>\n",
       "    </tr>\n",
       "    <tr>\n",
       "      <td>2</td>\n",
       "      <td>MORA</td>\n",
       "      <td>LH14</td>\n",
       "      <td>2010</td>\n",
       "      <td>80.0</td>\n",
       "      <td>1.470362</td>\n",
       "      <td>0.033</td>\n",
       "      <td>0.245689</td>\n",
       "      <td>0.88</td>\n",
       "      <td>0.169296</td>\n",
       "      <td>0.215221</td>\n",
       "      <td>...</td>\n",
       "      <td>121.666</td>\n",
       "      <td>135.636</td>\n",
       "      <td>198.0</td>\n",
       "      <td>310.0</td>\n",
       "      <td>8.14429</td>\n",
       "      <td>11.046590</td>\n",
       "      <td>0.090526</td>\n",
       "      <td>7.515945</td>\n",
       "      <td>7.327665</td>\n",
       "      <td>8.294452</td>\n",
       "    </tr>\n",
       "    <tr>\n",
       "      <td>3</td>\n",
       "      <td>MORA</td>\n",
       "      <td>LH14</td>\n",
       "      <td>2011</td>\n",
       "      <td>100.0</td>\n",
       "      <td>1.614943</td>\n",
       "      <td>0.162</td>\n",
       "      <td>0.183292</td>\n",
       "      <td>7.97</td>\n",
       "      <td>0.176724</td>\n",
       "      <td>0.217287</td>\n",
       "      <td>...</td>\n",
       "      <td>183.896</td>\n",
       "      <td>216.154</td>\n",
       "      <td>NaN</td>\n",
       "      <td>NaN</td>\n",
       "      <td>8.14429</td>\n",
       "      <td>17.604209</td>\n",
       "      <td>0.056805</td>\n",
       "      <td>8.124363</td>\n",
       "      <td>6.803574</td>\n",
       "      <td>8.458345</td>\n",
       "    </tr>\n",
       "    <tr>\n",
       "      <td>4</td>\n",
       "      <td>MORA</td>\n",
       "      <td>LH14</td>\n",
       "      <td>2012</td>\n",
       "      <td>75.0</td>\n",
       "      <td>1.484088</td>\n",
       "      <td>0.159</td>\n",
       "      <td>0.287878</td>\n",
       "      <td>4.09</td>\n",
       "      <td>0.141145</td>\n",
       "      <td>0.184353</td>\n",
       "      <td>...</td>\n",
       "      <td>192.278</td>\n",
       "      <td>182.626</td>\n",
       "      <td>208.0</td>\n",
       "      <td>NaN</td>\n",
       "      <td>8.14429</td>\n",
       "      <td>14.873592</td>\n",
       "      <td>0.067233</td>\n",
       "      <td>6.123028</td>\n",
       "      <td>6.812292</td>\n",
       "      <td>9.491126</td>\n",
       "    </tr>\n",
       "  </tbody>\n",
       "</table>\n",
       "<p>5 rows × 104 columns</p>\n",
       "</div>"
      ],
      "text/plain": [
       "  park_code site_code  event_year    anc        ca  chlorophyll        cl  \\\n",
       "0      MORA      LH14        2008   70.0  1.375677        0.128  0.349035   \n",
       "1      MORA      LH14        2009   92.5  1.577069        0.257  0.260580   \n",
       "2      MORA      LH14        2010   80.0  1.470362        0.033  0.245689   \n",
       "3      MORA      LH14        2011  100.0  1.614943        0.162  0.183292   \n",
       "4      MORA      LH14        2012   75.0  1.484088        0.159  0.287878   \n",
       "\n",
       "    doc         k        mg  ...  swe_april_snotel  swe_may_snotel  \\\n",
       "0  0.42  0.126874  0.134771  ...           183.642         197.104   \n",
       "1  3.59  0.166168  0.192799  ...           109.982         114.808   \n",
       "2  0.88  0.169296  0.215221  ...           121.666         135.636   \n",
       "3  7.97  0.176724  0.217287  ...           183.896         216.154   \n",
       "4  4.09  0.141145  0.184353  ...           192.278         182.626   \n",
       "\n",
       "   ice_out_doy  ice_in_doy  flush_index_no_swe  flush_index_swe_may  \\\n",
       "0          NaN         NaN             8.14429            16.052722   \n",
       "1        186.0         NaN             8.14429             9.350297   \n",
       "2        198.0       310.0             8.14429            11.046590   \n",
       "3          NaN         NaN             8.14429            17.604209   \n",
       "4        208.0         NaN             8.14429            14.873592   \n",
       "\n",
       "   wrt_index_swe_may   ln_clad   ln_cope     ln_rot  \n",
       "0           0.062295       NaN       NaN        NaN  \n",
       "1           0.106948  9.039751  8.078856  10.896468  \n",
       "2           0.090526  7.515945  7.327665   8.294452  \n",
       "3           0.056805  8.124363  6.803574   8.458345  \n",
       "4           0.067233  6.123028  6.812292   9.491126  \n",
       "\n",
       "[5 rows x 104 columns]"
      ]
     },
     "execution_count": 4,
     "metadata": {},
     "output_type": "execute_result"
    }
   ],
   "source": [
    "# Preview\n",
    "taxa_data.head(5)"
   ]
  },
  {
   "cell_type": "code",
   "execution_count": 5,
   "metadata": {},
   "outputs": [
    {
     "data": {
      "text/plain": [
       "park_code                0\n",
       "site_code                0\n",
       "event_year               0\n",
       "anc                    148\n",
       "ca                      65\n",
       "                      ... \n",
       "flush_index_swe_may     48\n",
       "wrt_index_swe_may       48\n",
       "ln_clad                 76\n",
       "ln_cope                 76\n",
       "ln_rot                  76\n",
       "Length: 104, dtype: int64"
      ]
     },
     "execution_count": 5,
     "metadata": {},
     "output_type": "execute_result"
    }
   ],
   "source": [
    "# NAs\n",
    "taxa_data.isna().sum()"
   ]
  },
  {
   "cell_type": "code",
   "execution_count": 6,
   "metadata": {},
   "outputs": [
    {
     "data": {
      "text/html": [
       "<div>\n",
       "<style scoped>\n",
       "    .dataframe tbody tr th:only-of-type {\n",
       "        vertical-align: middle;\n",
       "    }\n",
       "\n",
       "    .dataframe tbody tr th {\n",
       "        vertical-align: top;\n",
       "    }\n",
       "\n",
       "    .dataframe thead th {\n",
       "        text-align: right;\n",
       "    }\n",
       "</style>\n",
       "<table border=\"1\" class=\"dataframe\">\n",
       "  <thead>\n",
       "    <tr style=\"text-align: right;\">\n",
       "      <th></th>\n",
       "      <th>park_code</th>\n",
       "      <th>site_code</th>\n",
       "      <th>event_year</th>\n",
       "      <th>anc</th>\n",
       "      <th>ca</th>\n",
       "      <th>chlorophyll</th>\n",
       "      <th>cl</th>\n",
       "      <th>doc</th>\n",
       "      <th>k</th>\n",
       "      <th>mg</th>\n",
       "      <th>...</th>\n",
       "      <th>swe_april_snotel</th>\n",
       "      <th>swe_may_snotel</th>\n",
       "      <th>ice_out_doy</th>\n",
       "      <th>ice_in_doy</th>\n",
       "      <th>flush_index_no_swe</th>\n",
       "      <th>flush_index_swe_may</th>\n",
       "      <th>wrt_index_swe_may</th>\n",
       "      <th>ln_clad</th>\n",
       "      <th>ln_cope</th>\n",
       "      <th>ln_rot</th>\n",
       "    </tr>\n",
       "  </thead>\n",
       "  <tbody>\n",
       "  </tbody>\n",
       "</table>\n",
       "<p>0 rows × 104 columns</p>\n",
       "</div>"
      ],
      "text/plain": [
       "Empty DataFrame\n",
       "Columns: [park_code, site_code, event_year, anc, ca, chlorophyll, cl, doc, k, mg, na, nh3_n, nh4_n, no3_n, no3_n_no2_n, po4, so4, tds, total_n, total_p, pheophytin, air_temp, bot_temp, mid_temp, surf_temp, air_temp_1, bot_temp_1, mid_temp_1, surf_temp_1, air_temp_2, bot_temp_2, mid_temp_2, surf_temp_2, air_temp_3, bot_temp_3, mid_temp_3, surf_temp_3, air_temp_4, bot_temp_4, mid_temp_4, surf_temp_4, air_temp_5, bot_temp_5, mid_temp_5, surf_temp_5, air_temp_6, bot_temp_6, mid_temp_6, surf_temp_6, air_temp_7, bot_temp_7, mid_temp_7, surf_temp_7, air_temp_8, bot_temp_8, mid_temp_8, surf_temp_8, depth_below2m, do_below2m, d_osat_below2m, d_osol_below2m, p_h_below2m, prof_temp_below2m, sp_cond_below2m, depth_top2m, do_top2m, d_osat_top2m, d_osol_top2m, p_h_top2m, prof_temp_top2m, sp_cond_top2m, p_hm_v_below2m, p_hm_v_top2m, do_sat_incomplete_below2m, do_sat_incomplete_top2m, salinity_below2m, salinity_top2m, lakelevelcm, secchi_value_m, clad, cope, rot, brk_ever, cct_ever, rbt_ever, tss_ever, wct_ever, brk, cct, rbt, tss, wct, swe_may, swe_apr, swe_april_snotel, swe_may_snotel, ice_out_doy, ice_in_doy, flush_index_no_swe, flush_index_swe_may, ...]\n",
       "Index: []\n",
       "\n",
       "[0 rows x 104 columns]"
      ]
     },
     "execution_count": 6,
     "metadata": {},
     "output_type": "execute_result"
    }
   ],
   "source": [
    "taxa_data[~taxa_data.isin([np.nan, np.inf, -np.inf]).any(1)]\n",
    "# taxa_data[~taxa_data.isin([np.nan, np.inf, -np.inf])]\n",
    "# genus_data[~genus_data.isin([np.nan, np.inf, -np.inf]).any(1)]\n",
    "\n",
    "#data_hist = genus_data[~genus_data.isin([np.nan, np.inf, -np.inf]).any(1)].hist(figsize=(12, 12))"
   ]
  },
  {
   "cell_type": "code",
   "execution_count": 15,
   "metadata": {},
   "outputs": [],
   "source": [
    "# Selecting certain columns:\n",
    "# genus_data.loc[:, \"Conochilus\":\"Alona\"] \n",
    "\n",
    "# Get zoop cols\n",
    "zoop_names = taxa_data.loc[:,\"clad\":\"rot\"].columns\n",
    "\n",
    "# Get predictor names\n",
    "pred_names = [\"chlorophyll\", \"air_temp\", \"ca\"]"
   ]
  },
  {
   "cell_type": "code",
   "execution_count": 16,
   "metadata": {},
   "outputs": [
    {
     "data": {
      "text/plain": [
       "Index(['clad', 'cope', 'rot'], dtype='object')"
      ]
     },
     "execution_count": 16,
     "metadata": {},
     "output_type": "execute_result"
    }
   ],
   "source": [
    "zoop_names"
   ]
  },
  {
   "cell_type": "code",
   "execution_count": 17,
   "metadata": {},
   "outputs": [],
   "source": [
    "# Get version of dataset with no NAs\n",
    "# zoop_clean = genus_data.dropna(subset = zoop_names, how = 'any')\n",
    "taxa_clean = taxa_data[np.concatenate((pred_names, list(zoop_names)))].dropna()"
   ]
  },
  {
   "cell_type": "code",
   "execution_count": 10,
   "metadata": {},
   "outputs": [],
   "source": [
    "# pair_plot = sns.pairplot(data = zoop_clean, hue = \"test\", diag_kind = \"kde\", height = 5, plot_kws = {\"s\": 15})"
   ]
  },
  {
   "cell_type": "code",
   "execution_count": 18,
   "metadata": {},
   "outputs": [],
   "source": [
    "# Note to self...scikit-learn decisiontreeregressor doesn't allow for categorical predictors...whaaaat?\n",
    "# https://stackoverflow.com/questions/38108832/passing-categorical-data-to-sklearn-decision-tree\n",
    "# Perhaps in a near-future release?\n",
    "# https://github.com/scikit-learn/scikit-learn/pull/12866\n",
    "\n",
    "# x = genus_data.loc[:, \"park_code\":\"lake\"].drop([\"park_code\", \"site_code\", \"lake\"], axis = 1)\n",
    "x = taxa_clean[pred_names]\n",
    "\n",
    "y = taxa_clean.loc[:, \"clad\":\"rot\"]"
   ]
  },
  {
   "cell_type": "code",
   "execution_count": 20,
   "metadata": {},
   "outputs": [],
   "source": [
    "y.loc[:, \"rot\"] = np.log10(y[\"rot\"] + 1 )\n",
    "y.loc[:, \"clad\"] = np.log10(y[\"clad\"] + 1 )\n",
    "y.loc[:, \"cope\"] = np.log10(y[\"cope\"] + 1 )"
   ]
  },
  {
   "cell_type": "code",
   "execution_count": 21,
   "metadata": {},
   "outputs": [
    {
     "data": {
      "text/html": [
       "<div>\n",
       "<style scoped>\n",
       "    .dataframe tbody tr th:only-of-type {\n",
       "        vertical-align: middle;\n",
       "    }\n",
       "\n",
       "    .dataframe tbody tr th {\n",
       "        vertical-align: top;\n",
       "    }\n",
       "\n",
       "    .dataframe thead th {\n",
       "        text-align: right;\n",
       "    }\n",
       "</style>\n",
       "<table border=\"1\" class=\"dataframe\">\n",
       "  <thead>\n",
       "    <tr style=\"text-align: right;\">\n",
       "      <th></th>\n",
       "      <th>clad</th>\n",
       "      <th>cope</th>\n",
       "      <th>rot</th>\n",
       "    </tr>\n",
       "  </thead>\n",
       "  <tbody>\n",
       "    <tr>\n",
       "      <td>5</td>\n",
       "      <td>0.694775</td>\n",
       "      <td>0.663561</td>\n",
       "      <td>0.768401</td>\n",
       "    </tr>\n",
       "    <tr>\n",
       "      <td>6</td>\n",
       "      <td>0.668255</td>\n",
       "      <td>0.647175</td>\n",
       "      <td>0.759337</td>\n",
       "    </tr>\n",
       "    <tr>\n",
       "      <td>7</td>\n",
       "      <td>0.648984</td>\n",
       "      <td>0.652518</td>\n",
       "      <td>0.715182</td>\n",
       "    </tr>\n",
       "    <tr>\n",
       "      <td>8</td>\n",
       "      <td>0.668638</td>\n",
       "      <td>0.636107</td>\n",
       "      <td>0.665312</td>\n",
       "    </tr>\n",
       "    <tr>\n",
       "      <td>9</td>\n",
       "      <td>0.672971</td>\n",
       "      <td>0.621631</td>\n",
       "      <td>0.610161</td>\n",
       "    </tr>\n",
       "    <tr>\n",
       "      <td>...</td>\n",
       "      <td>...</td>\n",
       "      <td>...</td>\n",
       "      <td>...</td>\n",
       "    </tr>\n",
       "    <tr>\n",
       "      <td>204</td>\n",
       "      <td>0.597857</td>\n",
       "      <td>0.690858</td>\n",
       "      <td>0.665068</td>\n",
       "    </tr>\n",
       "    <tr>\n",
       "      <td>205</td>\n",
       "      <td>0.642417</td>\n",
       "      <td>0.526994</td>\n",
       "      <td>0.629304</td>\n",
       "    </tr>\n",
       "    <tr>\n",
       "      <td>206</td>\n",
       "      <td>0.658105</td>\n",
       "      <td>0.351007</td>\n",
       "      <td>0.740925</td>\n",
       "    </tr>\n",
       "    <tr>\n",
       "      <td>207</td>\n",
       "      <td>0.671459</td>\n",
       "      <td>0.595516</td>\n",
       "      <td>0.762528</td>\n",
       "    </tr>\n",
       "    <tr>\n",
       "      <td>208</td>\n",
       "      <td>0.653314</td>\n",
       "      <td>0.548040</td>\n",
       "      <td>0.736533</td>\n",
       "    </tr>\n",
       "  </tbody>\n",
       "</table>\n",
       "<p>167 rows × 3 columns</p>\n",
       "</div>"
      ],
      "text/plain": [
       "         clad      cope       rot\n",
       "5    0.694775  0.663561  0.768401\n",
       "6    0.668255  0.647175  0.759337\n",
       "7    0.648984  0.652518  0.715182\n",
       "8    0.668638  0.636107  0.665312\n",
       "9    0.672971  0.621631  0.610161\n",
       "..        ...       ...       ...\n",
       "204  0.597857  0.690858  0.665068\n",
       "205  0.642417  0.526994  0.629304\n",
       "206  0.658105  0.351007  0.740925\n",
       "207  0.671459  0.595516  0.762528\n",
       "208  0.653314  0.548040  0.736533\n",
       "\n",
       "[167 rows x 3 columns]"
      ]
     },
     "execution_count": 21,
     "metadata": {},
     "output_type": "execute_result"
    }
   ],
   "source": [
    "y\n",
    "\n",
    "# Convert float64 to float32\n",
    "# x.loc[:, x.dtypes == 'float64'] = x.loc[:, x.dtypes == 'float64'].astype('float32')\n",
    "# x.info(verbose = True)\n",
    "# x[~x.isin([np.nan, np.inf, -np.inf])]"
   ]
  },
  {
   "cell_type": "code",
   "execution_count": 22,
   "metadata": {},
   "outputs": [],
   "source": [
    "zoop_tree = DecisionTreeRegressor(max_depth = 1)\n",
    "zoop_tree_fit = zoop_tree.fit(x, y)"
   ]
  },
  {
   "cell_type": "code",
   "execution_count": 23,
   "metadata": {},
   "outputs": [
    {
     "data": {
      "text/plain": [
       "[Text(167.4, 163.07999999999998, 'X[0] <= 0.162\\nmse = 0.045\\nsamples = 167\\nvalue = [[0.415]\\n[0.582]\\n[0.541]]'),\n",
       " Text(83.7, 54.360000000000014, 'mse = 0.043\\nsamples = 49\\nvalue = [[0.239]\\n[0.541]\\n[0.445]]'),\n",
       " Text(251.10000000000002, 54.360000000000014, 'mse = 0.037\\nsamples = 118\\nvalue = [[0.488]\\n[0.599]\\n[0.58]]')]"
      ]
     },
     "execution_count": 23,
     "metadata": {},
     "output_type": "execute_result"
    },
    {
     "data": {
      "image/png": "[encoded data removed]",
      "text/plain": [
       "<Figure size 432x288 with 1 Axes>"
      ]
     },
     "metadata": {
      "needs_background": "light"
     },
     "output_type": "display_data"
    }
   ],
   "source": [
    "plot_tree(zoop_tree_fit, filled = True)"
   ]
  },
  {
   "cell_type": "code",
   "execution_count": null,
   "metadata": {},
   "outputs": [],
   "source": [
    "dot_data = export_graphviz(zoop_tree_fit, out_file=None, \n",
    "                      feature_names=x.columns,\n",
    "                     filled=True, rounded=True,  \n",
    "                      special_characters=True)  \n",
    "graph = graphviz.Source(dot_data, format = \"png\")  \n",
    "graph \n",
    "graph.render(\"../figures/decision_tree_graphivz\")"
   ]
  },
  {
   "cell_type": "code",
   "execution_count": null,
   "metadata": {},
   "outputs": [],
   "source": [
    "X = x.to_numpy()\n",
    "Y = y.to_numpy()"
   ]
  },
  {
   "cell_type": "code",
   "execution_count": null,
   "metadata": {},
   "outputs": [],
   "source": [
    "Xt, Xv, Yt, Yv = model_selection.train_test_split(x,\n",
    "                                                  y,\n",
    "                                                  test_size = 0.2,\n",
    "                                                  random_state = 7)"
   ]
  },
  {
   "cell_type": "code",
   "execution_count": null,
   "metadata": {},
   "outputs": [],
   "source": [
    "kfold = model_selection.KFold(n_splits = 10,\n",
    "                              random_state = 7)"
   ]
  },
  {
   "cell_type": "code",
   "execution_count": null,
   "metadata": {},
   "outputs": [],
   "source": [
    "results = {\n",
    "    'multi_output_tree' : np.zeros(10)\n",
    "}"
   ]
  },
  {
   "cell_type": "code",
   "execution_count": null,
   "metadata": {},
   "outputs": [],
   "source": [
    "scoring = \"accuracy\"\n",
    "error_score = np.nan"
   ]
  },
  {
   "cell_type": "code",
   "execution_count": null,
   "metadata": {},
   "outputs": [],
   "source": [
    "# Ugh, looks like this method doesn't work for multioutput that is continuous (i.e., regression)\n",
    "results['multi_output_tree'] = model_selection.cross_val_score(zoop_tree, Xt, Yt,\n",
    "                                                                cv = kfold, \n",
    "                                                                scoring = scoring,\n",
    "                                                                error_score = error_score)"
   ]
  },
  {
   "cell_type": "code",
   "execution_count": null,
   "metadata": {},
   "outputs": [],
   "source": [
    "# Eval method from: https://machinelearningmastery.com/multi-output-regression-models-with-python/\n",
    "\n",
    "# define the evaluation procedure\n",
    "cv = RepeatedKFold(n_splits=10, n_repeats=3, random_state=1)\n",
    "# evaluate the model and collect the scores\n",
    "n_scores = cross_val_score(zoop_tree, X, Y, scoring='neg_mean_absolute_error', cv=cv, n_jobs=-1)\n",
    "# force the scores to be positive\n",
    "n_scores = np.absolute(n_scores)\n",
    "# summarize performance\n",
    "print('MAE: %.3f (%.3f)' % (np.mean(n_scores), np.std(n_scores)))"
   ]
  }
 ],
 "metadata": {
  "kernelspec": {
   "display_name": "Python 3",
   "language": "python",
   "name": "python3"
  },
  "language_info": {
   "codemirror_mode": {
    "name": "ipython",
    "version": 3
   },
   "file_extension": ".py",
   "mimetype": "text/x-python",
   "name": "python",
   "nbconvert_exporter": "python",
   "pygments_lexer": "ipython3",
   "version": "3.7.4"
  }
 },
 "nbformat": 4,
 "nbformat_minor": 2
}
